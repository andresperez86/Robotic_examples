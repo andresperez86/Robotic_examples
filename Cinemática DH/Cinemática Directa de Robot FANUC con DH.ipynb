{
 "cells": [
  {
   "cell_type": "markdown",
   "metadata": {},
   "source": [
    "# 1. Cálculo Simbólico de la Cinemática Directa"
   ]
  },
  {
   "cell_type": "markdown",
   "metadata": {},
   "source": [
    "Se utilizará sympy para encontrar la matriz de transformación homogéneas de Denavit-Hartenberg (convención estándar)"
   ]
  },
  {
   "cell_type": "code",
   "execution_count": 1,
   "metadata": {},
   "outputs": [],
   "source": [
    "import sympy as sp                # Biblioteca para el cálculo simbólico\n",
    "import numpy as np\n"
   ]
  },
  {
   "cell_type": "code",
   "execution_count": 2,
   "metadata": {},
   "outputs": [],
   "source": [
    "def sTdh(d, th, a, alpha):\n",
    "    cth = sp.cos(th); sth = sp.sin(th)\n",
    "    ca = sp.cos(alpha); sa = sp.sin(alpha)\n",
    "    Tdh = sp.Matrix([[cth, -ca*sth,  sa*sth, a*cth],\n",
    "                     [sth,  ca*cth, -sa*cth, a*sth],\n",
    "                     [0,        sa,     ca,      d],\n",
    "                     [0,         0,      0,      1]])\n",
    "    return Tdh"
   ]
  },
  {
   "cell_type": "code",
   "execution_count": 3,
   "metadata": {},
   "outputs": [
    {
     "name": "stdout",
     "output_type": "stream",
     "text": [
      "T01:\n"
     ]
    },
    {
     "data": {
      "text/latex": [
       "$\\displaystyle \\left[\\begin{matrix}- \\cos{\\left(q_{1} \\right)} & 0 & - \\sin{\\left(q_{1} \\right)} & 150 \\cos{\\left(q_{1} \\right)}\\\\- \\sin{\\left(q_{1} \\right)} & 0 & \\cos{\\left(q_{1} \\right)} & 150 \\sin{\\left(q_{1} \\right)}\\\\0 & 1 & 0 & 450\\\\0 & 0 & 0 & 1\\end{matrix}\\right]$"
      ],
      "text/plain": [
       "Matrix([\n",
       "[-cos(q1), 0, -sin(q1), 150*cos(q1)],\n",
       "[-sin(q1), 0,  cos(q1), 150*sin(q1)],\n",
       "[       0, 1,        0,         450],\n",
       "[       0, 0,        0,           1]])"
      ]
     },
     "metadata": {},
     "output_type": "display_data"
    },
    {
     "name": "stdout",
     "output_type": "stream",
     "text": [
      "T12:\n"
     ]
    },
    {
     "data": {
      "text/latex": [
       "$\\displaystyle \\left[\\begin{matrix}- \\sin{\\left(q_{2} \\right)} & - \\cos{\\left(q_{2} \\right)} & 0 & - 600 \\sin{\\left(q_{2} \\right)}\\\\\\cos{\\left(q_{2} \\right)} & - \\sin{\\left(q_{2} \\right)} & 0 & 600 \\cos{\\left(q_{2} \\right)}\\\\0 & 0 & 1 & 0\\\\0 & 0 & 0 & 1\\end{matrix}\\right]$"
      ],
      "text/plain": [
       "Matrix([\n",
       "[-sin(q2), -cos(q2), 0, -600*sin(q2)],\n",
       "[ cos(q2), -sin(q2), 0,  600*cos(q2)],\n",
       "[       0,        0, 1,            0],\n",
       "[       0,        0, 0,            1]])"
      ]
     },
     "metadata": {},
     "output_type": "display_data"
    },
    {
     "name": "stdout",
     "output_type": "stream",
     "text": [
      "T23:\n"
     ]
    },
    {
     "data": {
      "text/latex": [
       "$\\displaystyle \\left[\\begin{matrix}- \\cos{\\left(q_{3} \\right)} & 0 & - \\sin{\\left(q_{3} \\right)} & 200 \\cos{\\left(q_{3} \\right)}\\\\- \\sin{\\left(q_{3} \\right)} & 0 & \\cos{\\left(q_{3} \\right)} & 200 \\sin{\\left(q_{3} \\right)}\\\\0 & 1 & 0 & 0\\\\0 & 0 & 0 & 1\\end{matrix}\\right]$"
      ],
      "text/plain": [
       "Matrix([\n",
       "[-cos(q3), 0, -sin(q3), 200*cos(q3)],\n",
       "[-sin(q3), 0,  cos(q3), 200*sin(q3)],\n",
       "[       0, 1,        0,           0],\n",
       "[       0, 0,        0,           1]])"
      ]
     },
     "metadata": {},
     "output_type": "display_data"
    },
    {
     "name": "stdout",
     "output_type": "stream",
     "text": [
      "T34:\n"
     ]
    },
    {
     "data": {
      "text/latex": [
       "$\\displaystyle \\left[\\begin{matrix}- \\cos{\\left(q_{4} \\right)} & 0 & - \\sin{\\left(q_{4} \\right)} & 0\\\\- \\sin{\\left(q_{4} \\right)} & 0 & \\cos{\\left(q_{4} \\right)} & 0\\\\0 & 1 & 0 & 640\\\\0 & 0 & 0 & 1\\end{matrix}\\right]$"
      ],
      "text/plain": [
       "Matrix([\n",
       "[-cos(q4), 0, -sin(q4),   0],\n",
       "[-sin(q4), 0,  cos(q4),   0],\n",
       "[       0, 1,        0, 640],\n",
       "[       0, 0,        0,   1]])"
      ]
     },
     "metadata": {},
     "output_type": "display_data"
    },
    {
     "name": "stdout",
     "output_type": "stream",
     "text": [
      "T45:\n"
     ]
    },
    {
     "data": {
      "text/latex": [
       "$\\displaystyle \\left[\\begin{matrix}- \\cos{\\left(q_{5} \\right)} & 0 & - \\sin{\\left(q_{5} \\right)} & 0\\\\- \\sin{\\left(q_{5} \\right)} & 0 & \\cos{\\left(q_{5} \\right)} & 0\\\\0 & 1 & 0 & 0\\\\0 & 0 & 0 & 1\\end{matrix}\\right]$"
      ],
      "text/plain": [
       "Matrix([\n",
       "[-cos(q5), 0, -sin(q5), 0],\n",
       "[-sin(q5), 0,  cos(q5), 0],\n",
       "[       0, 1,        0, 0],\n",
       "[       0, 0,        0, 1]])"
      ]
     },
     "metadata": {},
     "output_type": "display_data"
    },
    {
     "name": "stdout",
     "output_type": "stream",
     "text": [
      "T56:\n"
     ]
    },
    {
     "data": {
      "text/latex": [
       "$\\displaystyle \\left[\\begin{matrix}\\cos{\\left(q_{6} \\right)} & - \\sin{\\left(q_{6} \\right)} & 0 & 0\\\\\\sin{\\left(q_{6} \\right)} & \\cos{\\left(q_{6} \\right)} & 0 & 0\\\\0 & 0 & 1 & 0\\\\0 & 0 & 0 & 1\\end{matrix}\\right]$"
      ],
      "text/plain": [
       "Matrix([\n",
       "[cos(q6), -sin(q6), 0, 0],\n",
       "[sin(q6),  cos(q6), 0, 0],\n",
       "[      0,        0, 1, 0],\n",
       "[      0,        0, 0, 1]])"
      ]
     },
     "metadata": {},
     "output_type": "display_data"
    },
    {
     "name": "stdout",
     "output_type": "stream",
     "text": [
      "T06:\n"
     ]
    },
    {
     "data": {
      "text/latex": [
       "$\\displaystyle \\left[\\begin{matrix}- \\left(\\left(\\sin{\\left(q_{1} \\right)} \\sin{\\left(q_{4} \\right)} + \\sin{\\left(q_{2} + q_{3} \\right)} \\cos{\\left(q_{1} \\right)} \\cos{\\left(q_{4} \\right)}\\right) \\cos{\\left(q_{5} \\right)} + \\sin{\\left(q_{5} \\right)} \\cos{\\left(q_{1} \\right)} \\cos{\\left(q_{2} + q_{3} \\right)}\\right) \\cos{\\left(q_{6} \\right)} - \\left(\\sin{\\left(q_{1} \\right)} \\cos{\\left(q_{4} \\right)} - \\sin{\\left(q_{4} \\right)} \\sin{\\left(q_{2} + q_{3} \\right)} \\cos{\\left(q_{1} \\right)}\\right) \\sin{\\left(q_{6} \\right)} & \\left(\\left(\\sin{\\left(q_{1} \\right)} \\sin{\\left(q_{4} \\right)} + \\sin{\\left(q_{2} + q_{3} \\right)} \\cos{\\left(q_{1} \\right)} \\cos{\\left(q_{4} \\right)}\\right) \\cos{\\left(q_{5} \\right)} + \\sin{\\left(q_{5} \\right)} \\cos{\\left(q_{1} \\right)} \\cos{\\left(q_{2} + q_{3} \\right)}\\right) \\sin{\\left(q_{6} \\right)} + \\left(- \\sin{\\left(q_{1} \\right)} \\cos{\\left(q_{4} \\right)} + \\sin{\\left(q_{4} \\right)} \\sin{\\left(q_{2} + q_{3} \\right)} \\cos{\\left(q_{1} \\right)}\\right) \\cos{\\left(q_{6} \\right)} & - \\left(\\sin{\\left(q_{1} \\right)} \\sin{\\left(q_{4} \\right)} + \\sin{\\left(q_{2} + q_{3} \\right)} \\cos{\\left(q_{1} \\right)} \\cos{\\left(q_{4} \\right)}\\right) \\sin{\\left(q_{5} \\right)} + \\cos{\\left(q_{1} \\right)} \\cos{\\left(q_{5} \\right)} \\cos{\\left(q_{2} + q_{3} \\right)} & 10 \\left(60 \\sin{\\left(q_{2} \\right)} + 20 \\sin{\\left(q_{2} + q_{3} \\right)} + 64 \\cos{\\left(q_{2} + q_{3} \\right)} + 15\\right) \\cos{\\left(q_{1} \\right)}\\\\\\left(\\left(- \\sin{\\left(q_{1} \\right)} \\sin{\\left(q_{2} + q_{3} \\right)} \\cos{\\left(q_{4} \\right)} + \\sin{\\left(q_{4} \\right)} \\cos{\\left(q_{1} \\right)}\\right) \\cos{\\left(q_{5} \\right)} - \\sin{\\left(q_{1} \\right)} \\sin{\\left(q_{5} \\right)} \\cos{\\left(q_{2} + q_{3} \\right)}\\right) \\cos{\\left(q_{6} \\right)} + \\left(\\sin{\\left(q_{1} \\right)} \\sin{\\left(q_{4} \\right)} \\sin{\\left(q_{2} + q_{3} \\right)} + \\cos{\\left(q_{1} \\right)} \\cos{\\left(q_{4} \\right)}\\right) \\sin{\\left(q_{6} \\right)} & \\left(\\left(\\sin{\\left(q_{1} \\right)} \\sin{\\left(q_{2} + q_{3} \\right)} \\cos{\\left(q_{4} \\right)} - \\sin{\\left(q_{4} \\right)} \\cos{\\left(q_{1} \\right)}\\right) \\cos{\\left(q_{5} \\right)} + \\sin{\\left(q_{1} \\right)} \\sin{\\left(q_{5} \\right)} \\cos{\\left(q_{2} + q_{3} \\right)}\\right) \\sin{\\left(q_{6} \\right)} + \\left(\\sin{\\left(q_{1} \\right)} \\sin{\\left(q_{4} \\right)} \\sin{\\left(q_{2} + q_{3} \\right)} + \\cos{\\left(q_{1} \\right)} \\cos{\\left(q_{4} \\right)}\\right) \\cos{\\left(q_{6} \\right)} & - \\left(\\sin{\\left(q_{1} \\right)} \\sin{\\left(q_{2} + q_{3} \\right)} \\cos{\\left(q_{4} \\right)} - \\sin{\\left(q_{4} \\right)} \\cos{\\left(q_{1} \\right)}\\right) \\sin{\\left(q_{5} \\right)} + \\sin{\\left(q_{1} \\right)} \\cos{\\left(q_{5} \\right)} \\cos{\\left(q_{2} + q_{3} \\right)} & 10 \\left(60 \\sin{\\left(q_{2} \\right)} + 20 \\sin{\\left(q_{2} + q_{3} \\right)} + 64 \\cos{\\left(q_{2} + q_{3} \\right)} + 15\\right) \\sin{\\left(q_{1} \\right)}\\\\\\left(\\sin{\\left(q_{5} \\right)} \\sin{\\left(q_{2} + q_{3} \\right)} - \\cos{\\left(q_{4} \\right)} \\cos{\\left(q_{5} \\right)} \\cos{\\left(q_{2} + q_{3} \\right)}\\right) \\cos{\\left(q_{6} \\right)} + \\sin{\\left(q_{4} \\right)} \\sin{\\left(q_{6} \\right)} \\cos{\\left(q_{2} + q_{3} \\right)} & - \\left(\\sin{\\left(q_{5} \\right)} \\sin{\\left(q_{2} + q_{3} \\right)} - \\cos{\\left(q_{4} \\right)} \\cos{\\left(q_{5} \\right)} \\cos{\\left(q_{2} + q_{3} \\right)}\\right) \\sin{\\left(q_{6} \\right)} + \\sin{\\left(q_{4} \\right)} \\cos{\\left(q_{6} \\right)} \\cos{\\left(q_{2} + q_{3} \\right)} & - \\sin{\\left(q_{5} \\right)} \\cos{\\left(q_{4} \\right)} \\cos{\\left(q_{2} + q_{3} \\right)} - \\sin{\\left(q_{2} + q_{3} \\right)} \\cos{\\left(q_{5} \\right)} & - 640 \\sin{\\left(q_{2} + q_{3} \\right)} + 600 \\cos{\\left(q_{2} \\right)} + 200 \\cos{\\left(q_{2} + q_{3} \\right)} + 450\\\\0 & 0 & 0 & 1\\end{matrix}\\right]$"
      ],
      "text/plain": [
       "Matrix([\n",
       "[-((sin(q1)*sin(q4) + sin(q2 + q3)*cos(q1)*cos(q4))*cos(q5) + sin(q5)*cos(q1)*cos(q2 + q3))*cos(q6) - (sin(q1)*cos(q4) - sin(q4)*sin(q2 + q3)*cos(q1))*sin(q6), ((sin(q1)*sin(q4) + sin(q2 + q3)*cos(q1)*cos(q4))*cos(q5) + sin(q5)*cos(q1)*cos(q2 + q3))*sin(q6) + (-sin(q1)*cos(q4) + sin(q4)*sin(q2 + q3)*cos(q1))*cos(q6), -(sin(q1)*sin(q4) + sin(q2 + q3)*cos(q1)*cos(q4))*sin(q5) + cos(q1)*cos(q5)*cos(q2 + q3), 10*(60*sin(q2) + 20*sin(q2 + q3) + 64*cos(q2 + q3) + 15)*cos(q1)],\n",
       "[((-sin(q1)*sin(q2 + q3)*cos(q4) + sin(q4)*cos(q1))*cos(q5) - sin(q1)*sin(q5)*cos(q2 + q3))*cos(q6) + (sin(q1)*sin(q4)*sin(q2 + q3) + cos(q1)*cos(q4))*sin(q6),  ((sin(q1)*sin(q2 + q3)*cos(q4) - sin(q4)*cos(q1))*cos(q5) + sin(q1)*sin(q5)*cos(q2 + q3))*sin(q6) + (sin(q1)*sin(q4)*sin(q2 + q3) + cos(q1)*cos(q4))*cos(q6), -(sin(q1)*sin(q2 + q3)*cos(q4) - sin(q4)*cos(q1))*sin(q5) + sin(q1)*cos(q5)*cos(q2 + q3), 10*(60*sin(q2) + 20*sin(q2 + q3) + 64*cos(q2 + q3) + 15)*sin(q1)],\n",
       "[                                                                 (sin(q5)*sin(q2 + q3) - cos(q4)*cos(q5)*cos(q2 + q3))*cos(q6) + sin(q4)*sin(q6)*cos(q2 + q3),                                                                 -(sin(q5)*sin(q2 + q3) - cos(q4)*cos(q5)*cos(q2 + q3))*sin(q6) + sin(q4)*cos(q6)*cos(q2 + q3),                                     -sin(q5)*cos(q4)*cos(q2 + q3) - sin(q2 + q3)*cos(q5),         -640*sin(q2 + q3) + 600*cos(q2) + 200*cos(q2 + q3) + 450],\n",
       "[                                                                                                                                                            0,                                                                                                                                                             0,                                                                                        0,                                                                1]])"
      ]
     },
     "metadata": {},
     "output_type": "display_data"
    }
   ],
   "source": [
    "# Variables simbólicas\n",
    "q1, q2, q3, q4, q5, q6 = sp.symbols(\"q1 q2 q3 q4 q5 q6\")\n",
    "l1, l2, l3, l4 = sp.symbols(\"l1 l2 l3 l4\")\n",
    "\n",
    "# Transformaciones homogéneas\n",
    "T01 = sTdh( 450,   sp.pi+q1, -150, sp.pi/2)\n",
    "T12 = sTdh(   0, q2+sp.pi/2,  600,       0)\n",
    "T23 = sTdh(   0,   q3+sp.pi, -200, sp.pi/2)\n",
    "T34 = sTdh( 640,   q4+sp.pi,    0, sp.pi/2)\n",
    "T45 = sTdh(   0,   q5+sp.pi,    0, sp.pi/2)\n",
    "T56 = sTdh(   0,         q6,    0,       0)\n",
    "\n",
    "# Transformación homogénea final\n",
    "Tf = sp.simplify(T01*T12*T23*T34*T45*T56)\n",
    "\n",
    "# Mostrar las transformaciones homogéneas (display funciona con IPython)\n",
    "print(\"T01:\"); display(T01)\n",
    "print(\"T12:\"); display(T12)\n",
    "print(\"T23:\"); display(T23)\n",
    "print(\"T34:\"); display(T34)\n",
    "print(\"T45:\"); display(T45)\n",
    "print(\"T56:\"); display(T56)\n",
    "print(\"T06:\"); display(Tf)"
   ]
  },
  {
   "cell_type": "code",
   "execution_count": 4,
   "metadata": {},
   "outputs": [
    {
     "name": "stdout",
     "output_type": "stream",
     "text": [
      "T06 cuando q=(0,0,0,0,0,0):\n"
     ]
    },
    {
     "data": {
      "text/latex": [
       "$\\displaystyle \\left[\\begin{matrix}0 & 0 & 1 & 790\\\\0 & 1 & 0 & 0\\\\-1 & 0 & 0 & 1250\\\\0 & 0 & 0 & 1\\end{matrix}\\right]$"
      ],
      "text/plain": [
       "Matrix([\n",
       "[ 0, 0, 1,  790],\n",
       "[ 0, 1, 0,    0],\n",
       "[-1, 0, 0, 1250],\n",
       "[ 0, 0, 0,    1]])"
      ]
     },
     "execution_count": 4,
     "metadata": {},
     "output_type": "execute_result"
    }
   ],
   "source": [
    "# Valor cuando todos los ángulos son cero\n",
    "print(\"T06 cuando q=(0,0,0,0,0,0):\")\n",
    "Tf.subs({q1:0., q2:0., q3:0., q4:0., q5:0., q6:0.})"
   ]
  },
  {
   "cell_type": "markdown",
   "metadata": {},
   "source": [
    "# 2. Cálculo Numérico de la Cinemática Directa"
   ]
  },
  {
   "cell_type": "markdown",
   "metadata": {},
   "source": [
    "En este caso se utilizará numpy para el manejo de matrices y vectores"
   ]
  },
  {
   "cell_type": "code",
   "execution_count": 5,
   "metadata": {},
   "outputs": [],
   "source": [
    "def Tdh(d, th, a, alpha):\n",
    "    cth = np.cos(th);    sth = np.sin(th)\n",
    "    ca = np.cos(alpha);  sa = np.sin(alpha)\n",
    "    Tdh = np.array([[cth, -ca*sth,  sa*sth, a*cth],\n",
    "                    [sth,  ca*cth, -sa*cth, a*sth],\n",
    "                    [0,        sa,     ca,      d],\n",
    "                    [0,         0,      0,      1]])\n",
    "    return Tdh"
   ]
  },
  {
   "cell_type": "code",
   "execution_count": 6,
   "metadata": {},
   "outputs": [],
   "source": [
    "# Cinemática directa del robot\n",
    "def cdirecta_fanuc(q):\n",
    "    \"\"\" Retorna los sistemas de referencia de cada eslabón con respecto a la base\n",
    "    \"\"\"\n",
    "    # Transformaciones homogéneas de DH\n",
    "    T01 = Tdh( 450,   np.pi+q[0], -150, np.pi/2);\n",
    "    T12 = Tdh(   0, q[1]+np.pi/2,  600,       0);\n",
    "    T23 = Tdh(   0,   q[2]+np.pi, -200, np.pi/2);\n",
    "    T34 = Tdh( 640,   q[3]+np.pi,    0, np.pi/2);\n",
    "    T45 = Tdh(   0,   q[4]+np.pi,    0, np.pi/2);\n",
    "    T56 = Tdh(   0,         q[5],    0,       0);\n",
    "    # Efector final con respecto a la base\n",
    "    Tf = T01.dot(T12).dot(T23).dot(T34).dot(T45).dot(T56)\n",
    "    return Tf"
   ]
  },
  {
   "cell_type": "code",
   "execution_count": 7,
   "metadata": {},
   "outputs": [
    {
     "name": "stdout",
     "output_type": "stream",
     "text": [
      "Efector final con respecto a la base cuando q1=0.0, q2=0.0, q3=0.0, q4=0.0, q5=0.0, q6=0.0\n",
      "[[ 0.00e+00  0.00e+00  1.00e+00  7.90e+02]\n",
      " [-0.00e+00  1.00e+00 -0.00e+00 -0.00e+00]\n",
      " [-1.00e+00 -0.00e+00  0.00e+00  1.25e+03]\n",
      " [ 0.00e+00  0.00e+00  0.00e+00  1.00e+00]]\n"
     ]
    }
   ],
   "source": [
    "# Ejemplo de cálculo de la cinemática directa\n",
    "q = np.array([0., 0., 0., 0., 0., 0.])\n",
    "\n",
    "# Cinemática directa\n",
    "Te = cdirecta_fanuc(np.deg2rad(q))   # Cinemática directa\n",
    "\n",
    "# Mostrar el resultado\n",
    "print(\"Efector final con respecto a la base cuando q1={}, q2={}, q3={}, q4={}, q5={}, q6={}\".format(q[0], q[1], q[2],\n",
    "                                                                                                    q[3], q[4], q[5]))\n",
    "\n",
    "print(np.round(Te,4))"
   ]
  },
  {
   "cell_type": "markdown",
   "metadata": {},
   "source": [
    "# # Gráfico del Robot FANUC "
   ]
  },
  {
   "cell_type": "markdown",
   "metadata": {},
   "source": [
    "Se utilizará una clase llamada SerialRobot, donde se definirá el robot utilizando los parámetros de Denavit-Hartenberg calculados. Usando esta clase se graficará el robot. Internamente, esta clase usa matplotlib para realizar el gráfico."
   ]
  },
  {
   "cell_type": "code",
   "execution_count": 8,
   "metadata": {},
   "outputs": [],
   "source": [
    "from serialrobot import *\n",
    "%matplotlib inline"
   ]
  },
  {
   "cell_type": "code",
   "execution_count": 9,
   "metadata": {},
   "outputs": [],
   "source": [
    "# Parámetros DH del robot\n",
    "# d, th, a, alpha\n",
    "L = [[ 0.450,   np.pi, -0.150, np.pi/2, 'r'],\n",
    "     [     0, np.pi/2,  0.600,       0, 'r'],\n",
    "     [     0,   np.pi, -0.200, np.pi/2, 'r'],\n",
    "     [ 0.640,   np.pi,      0, np.pi/2, 'r'],\n",
    "     [     0,   np.pi,      0, np.pi/2, 'r'],\n",
    "     [     0,       0,      0,       0, 'r']]\n",
    "\n",
    "# Creación del robot\n",
    "fanuc = SerialRobot(L, name='fanuc-M10iA')"
   ]
  },
  {
   "cell_type": "code",
   "execution_count": 10,
   "metadata": {},
   "outputs": [
    {
     "data": {
      "image/png": "[encoded data removed]",
      "text/plain": [
       "<Figure size 432x288 with 1 Axes>"
      ]
     },
     "metadata": {
      "needs_background": "light"
     },
     "output_type": "display_data"
    }
   ],
   "source": [
    "alims = [[-0.1,1.3],[-0.7,0.7],[-0.1, 1.4]]\n",
    "fanuc.plot([0, 0.5, -0.5, 0., -0, 0], axlimits=alims, ascale=0.3, ee=False)"
   ]
  },
  {
   "cell_type": "code",
   "execution_count": null,
   "metadata": {},
   "outputs": [],
   "source": []
  }
 ],
 "metadata": {
  "kernelspec": {
   "display_name": "p37",
   "language": "python",
   "name": "python3"
  },
  "language_info": {
   "codemirror_mode": {
    "name": "ipython",
    "version": 3
   },
   "file_extension": ".py",
   "mimetype": "text/x-python",
   "name": "python",
   "nbconvert_exporter": "python",
   "pygments_lexer": "ipython3",
   "version": "3.7.3"
  }
 },
 "nbformat": 4,
 "nbformat_minor": 2
}
